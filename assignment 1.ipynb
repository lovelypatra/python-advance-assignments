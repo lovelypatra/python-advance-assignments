{
 "cells": [
  {
   "cell_type": "markdown",
   "id": "10253f9d",
   "metadata": {},
   "source": [
    "Q1. What is the purpose of Python's OOP?\n",
    "Ans: In Python, Object Oriented Programming language is a programming paradigm that uses objects and classes in programming.\n",
    "\n",
    "Q2. Where does an inheritance search look for an attribute?\n",
    "Ans: Inheritnce search look for the tree from bottom to top looking for the lowest occurence of an attribute name.\n",
    "\n",
    "Q3. How do you distinguish between a class object and an instance object?\n",
    "Ans: A class is a blueprint which we use to create objects but instance gives the relationship between an object and classes.\n",
    "\n",
    "Q4. What makes the first argument in a class’s method function special?\n",
    "Ans: The first argument in the class method is the class on which we are calling the method,not the class that defines the method.\n",
    "\n",
    "Q5. What is the purpose of the __init__ method?\n",
    "Ans: the purpose of __init__ method is to initialize the class.\n",
    "\n",
    "Q6. What is the process for creating a class instance?\n",
    "Ans:we have to choose the name of the object and set it equal to class name.\n",
    "\n",
    "Q7. What is the process for creating a class?\n",
    "Ans: class is created directly by writting the keyword class the class name\n",
    "\n",
    "Q8. How would you define the superclasses of a class?\n",
    "Ans:A superclass is the class from which many substances can be created."
   ]
  }
 ],
 "metadata": {
  "kernelspec": {
   "display_name": "Python 3 (ipykernel)",
   "language": "python",
   "name": "python3"
  },
  "language_info": {
   "codemirror_mode": {
    "name": "ipython",
    "version": 3
   },
   "file_extension": ".py",
   "mimetype": "text/x-python",
   "name": "python",
   "nbconvert_exporter": "python",
   "pygments_lexer": "ipython3",
   "version": "3.9.12"
  }
 },
 "nbformat": 4,
 "nbformat_minor": 5
}
