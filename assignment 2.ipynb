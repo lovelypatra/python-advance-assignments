{
 "cells": [
  {
   "cell_type": "markdown",
   "id": "8d5da6d6",
   "metadata": {},
   "source": [
    "Q1. What is the relationship between classes and modules?"
   ]
  },
  {
   "cell_type": "markdown",
   "id": "5ea7c264",
   "metadata": {},
   "source": [
    "Ans: A class is used to define a blueprint for a given object where as a module is used to reuse  a given piece of code inside another program"
   ]
  },
  {
   "cell_type": "markdown",
   "id": "f7680659",
   "metadata": {},
   "source": [
    "Q2. How do you make instances and classes?"
   ]
  },
  {
   "cell_type": "markdown",
   "id": "bbb037ef",
   "metadata": {},
   "source": [
    "Ans: To create instances of a class we call the class using class name and pass in whatever arguments its __init__ method accepts where as a class is created by writting class keyword followed by the name of class."
   ]
  },
  {
   "cell_type": "markdown",
   "id": "e1111371",
   "metadata": {},
   "source": [
    "Q3. Where and how should be class attributes created?"
   ]
  },
  {
   "cell_type": "markdown",
   "id": "a24c7df8",
   "metadata": {},
   "source": [
    "Ans: A class attribute is shared by all instances of the class and to define a class attribute we  place it outside of the __init__ () method."
   ]
  },
  {
   "cell_type": "markdown",
   "id": "cf6d96f6",
   "metadata": {},
   "source": [
    "Q4. Where and how are instance attributes created?"
   ]
  },
  {
   "cell_type": "markdown",
   "id": "e01995cf",
   "metadata": {},
   "source": [
    "Ans: Instance attributes are defined in the constructor directly inside the class using the self parameter."
   ]
  },
  {
   "cell_type": "markdown",
   "id": "d303d6c6",
   "metadata": {},
   "source": [
    "Q5. What does the term \"self\" in a Python class mean?"
   ]
  },
  {
   "cell_type": "markdown",
   "id": "cb35f311",
   "metadata": {},
   "source": [
    "Ans: self represents the instance of the class."
   ]
  },
  {
   "cell_type": "markdown",
   "id": "d82a9e9a",
   "metadata": {},
   "source": [
    "Q6. How does a Python class handle operator overloading?"
   ]
  },
  {
   "cell_type": "markdown",
   "id": "5bfbf71d",
   "metadata": {},
   "source": [
    "Ans: Python provides some special function that is automatically invoked when it is associated with that particular operator to handle operator overloading"
   ]
  },
  {
   "cell_type": "markdown",
   "id": "f671fbfd",
   "metadata": {},
   "source": [
    "Q7. When do you consider allowing operator overloading of your classes?"
   ]
  },
  {
   "cell_type": "markdown",
   "id": "fbece0c8",
   "metadata": {},
   "source": [
    "Ans: when predefined operational meaning does not work"
   ]
  },
  {
   "cell_type": "markdown",
   "id": "b46f378c",
   "metadata": {},
   "source": [
    "Q8. What is the most popular form of operator overloading?"
   ]
  },
  {
   "cell_type": "markdown",
   "id": "e7d2b62b",
   "metadata": {},
   "source": [
    "Ans: The most popular form of operator overloading is '+'"
   ]
  },
  {
   "cell_type": "markdown",
   "id": "a1dd285b",
   "metadata": {},
   "source": [
    "Q9. What are the two most important concepts to grasp in order to comprehend Python OOP code?"
   ]
  },
  {
   "cell_type": "markdown",
   "id": "a116a845",
   "metadata": {},
   "source": [
    "Ans: Inheritance and Polymorphism"
   ]
  }
 ],
 "metadata": {
  "kernelspec": {
   "display_name": "Python 3 (ipykernel)",
   "language": "python",
   "name": "python3"
  },
  "language_info": {
   "codemirror_mode": {
    "name": "ipython",
    "version": 3
   },
   "file_extension": ".py",
   "mimetype": "text/x-python",
   "name": "python",
   "nbconvert_exporter": "python",
   "pygments_lexer": "ipython3",
   "version": "3.9.12"
  }
 },
 "nbformat": 4,
 "nbformat_minor": 5
}
